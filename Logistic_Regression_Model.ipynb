{
  "nbformat": 4,
  "nbformat_minor": 0,
  "metadata": {
    "colab": {
      "provenance": [],
      "authorship_tag": "ABX9TyOafwytHoun29XtpGToHPha",
      "include_colab_link": true
    },
    "kernelspec": {
      "name": "python3",
      "display_name": "Python 3"
    },
    "language_info": {
      "name": "python"
    }
  },
  "cells": [
    {
      "cell_type": "markdown",
      "metadata": {
        "id": "view-in-github",
        "colab_type": "text"
      },
      "source": [
        "<a href=\"https://colab.research.google.com/github/jamesjulius-02/Logistics-Regression-Implemenation/blob/main/Logistic_Regression_Model.ipynb\" target=\"_parent\"><img src=\"https://colab.research.google.com/assets/colab-badge.svg\" alt=\"Open In Colab\"/></a>"
      ]
    },
    {
      "cell_type": "code",
      "execution_count": 1,
      "metadata": {
        "colab": {
          "base_uri": "https://localhost:8080/"
        },
        "id": "B3yfmliDSPwr",
        "outputId": "dec20e1d-a8b5-46c9-cdac-4132f204d5e3"
      },
      "outputs": [
        {
          "output_type": "stream",
          "name": "stdout",
          "text": [
            "Confusion Matrix:\n",
            "[[1 0]\n",
            " [0 1]]\n",
            "Classification Report:\n",
            "              precision    recall  f1-score   support\n",
            "\n",
            "           0       1.00      1.00      1.00         1\n",
            "           1       1.00      1.00      1.00         1\n",
            "\n",
            "    accuracy                           1.00         2\n",
            "   macro avg       1.00      1.00      1.00         2\n",
            "weighted avg       1.00      1.00      1.00         2\n",
            "\n",
            "ROC-AUC: 1.00\n",
            "Enter the number of hours studied: 12\n",
            "The predicted result for studying 12.0 hours is: Pass (Probability of passing: 1.00)\n"
          ]
        },
        {
          "output_type": "stream",
          "name": "stderr",
          "text": [
            "/usr/local/lib/python3.10/dist-packages/sklearn/base.py:493: UserWarning: X does not have valid feature names, but LogisticRegression was fitted with feature names\n",
            "  warnings.warn(\n",
            "/usr/local/lib/python3.10/dist-packages/sklearn/base.py:493: UserWarning: X does not have valid feature names, but LogisticRegression was fitted with feature names\n",
            "  warnings.warn(\n"
          ]
        }
      ],
      "source": [
        "import pandas as pd\n",
        "import numpy as np\n",
        "from sklearn.model_selection import train_test_split\n",
        "from sklearn.linear_model import LogisticRegression\n",
        "from sklearn.metrics import confusion_matrix, classification_report, roc_auc_score\n",
        "\n",
        "# Example data\n",
        "data = {\n",
        "    'Hours_Studied': [1, 2, 3, 4, 5, 6, 7, 8, 9, 10],\n",
        "    'Passed': [0, 0, 0, 0, 1, 1, 1, 1, 1, 1]\n",
        "}\n",
        "\n",
        "# Creating a DataFrame from the data\n",
        "df = pd.DataFrame(data)\n",
        "\n",
        "# Independent variable (feature) and dependent variable (target)\n",
        "X = df[['Hours_Studied']]\n",
        "y = df['Passed']\n",
        "\n",
        "# Splitting the data into training and testing sets\n",
        "X_train, X_test, y_train, y_test = train_test_split(X, y, test_size=0.2, random_state=0)\n",
        "\n",
        "# Creating and training the logistic regression model\n",
        "model = LogisticRegression()\n",
        "model.fit(X_train, y_train)\n",
        "\n",
        "# Making predictions\n",
        "y_pred = model.predict(X_test)\n",
        "y_pred_prob = model.predict_proba(X_test)[:, 1]\n",
        "\n",
        "# Evaluating the model\n",
        "conf_matrix = confusion_matrix(y_test, y_pred)\n",
        "class_report = classification_report(y_test, y_pred)\n",
        "roc_auc = roc_auc_score(y_test, y_pred_prob)\n",
        "\n",
        "# Printing evaluation metrics\n",
        "print(f\"Confusion Matrix:\\n{conf_matrix}\")\n",
        "print(f\"Classification Report:\\n{class_report}\")\n",
        "print(f\"ROC-AUC: {roc_auc:.2f}\")\n",
        "\n",
        "# Function to predict whether a student will pass or fail based on hours studied\n",
        "def predict_pass_fail(hours):\n",
        "    hours_array = np.array([[hours]])  # Convert the input hours to a 2D array\n",
        "    prediction = model.predict(hours_array)[0]  # Predict class (0 or 1)\n",
        "    prediction_prob = model.predict_proba(hours_array)[0][1]  # Predict probability of passing\n",
        "    return prediction, prediction_prob\n",
        "\n",
        "# User input for hours studied\n",
        "try:\n",
        "    user_input = float(input(\"Enter the number of hours studied: \"))\n",
        "    prediction, prediction_prob = predict_pass_fail(user_input)\n",
        "    result = \"Pass\" if prediction == 1 else \"Fail\"\n",
        "    print(f\"The predicted result for studying {user_input} hours is: {result} (Probability of passing: {prediction_prob:.2f})\")\n",
        "except ValueError:\n",
        "    print(\"Please enter a valid number for the hours studied.\")\n",
        "\n",
        "\n"
      ]
    },
    {
      "cell_type": "code",
      "source": [],
      "metadata": {
        "id": "Xn-4fxk7oJhe"
      },
      "execution_count": null,
      "outputs": []
    },
    {
      "cell_type": "markdown",
      "source": [],
      "metadata": {
        "id": "C-cUxhaaY-WM"
      }
    },
    {
      "cell_type": "code",
      "source": [],
      "metadata": {
        "id": "hhHOeZHnY-_b"
      },
      "execution_count": null,
      "outputs": []
    },
    {
      "cell_type": "code",
      "source": [],
      "metadata": {
        "id": "AZ0L6D6NZGEl"
      },
      "execution_count": null,
      "outputs": []
    },
    {
      "cell_type": "code",
      "source": [
        "data = {\n",
        "    'Age': [25, 45, 35, 50, 23, 37, 32, 28, 40, 27],\n",
        "    'Income': ['High', 'High', 'High', 'Medium', 'Low', 'Low', 'Low', 'Medium', 'Low', 'Medium'],\n",
        "    'Student': ['No', 'No', 'No', 'Yes', 'Yes', 'Yes', 'Yes', 'Yes', 'No'],\n",
        "    'Buys_Computer': ['No', 'No', 'Yes', 'Yes', 'Yes', 'No', 'Yes', 'No', 'Yes']\n",
        "}\n"
      ],
      "metadata": {
        "id": "jaakc1YuTdwH"
      },
      "execution_count": 2,
      "outputs": []
    },
    {
      "cell_type": "code",
      "source": [
        "import pandas as pd\n",
        "from sklearn.model_selection import train_test_split\n",
        "from sklearn.tree import DecisionTreeClassifier\n",
        "from sklearn.metrics import accuracy_score, confusion_matrix\n",
        "\n",
        "# Assuming 'data' is defined previously\n",
        "data = {\n",
        "    'Age': [25, 30, 35, 40],\n",
        "    'Income': ['Low', 'Medium', 'High', 'Medium'],\n",
        "    'Student': ['No', 'Yes', 'Yes', 'No'],\n",
        "    'Buys_Computer': ['No', 'Yes', 'Yes', 'No']\n",
        "}\n",
        "\n",
        "df = pd.DataFrame(data)\n",
        "\n",
        "# Convert categorical features to numeric\n",
        "df['Income'] = df['Income'].map({'Low': 1, 'Medium': 2, 'High': 3})\n",
        "df['Student'] = df['Student'].map({'No': 0, 'Yes': 1})\n",
        "df['Buys_Computer'] = df['Buys_Computer'].map({'No': 0, 'Yes': 1})\n",
        "\n",
        "# Independent variables (features) and dependent variable (target)\n",
        "X = df[['Age', 'Income', 'Student']]\n",
        "y = df['Buys_Computer']\n",
        "\n",
        "# Splitting the data into training and testing sets\n",
        "X_train, X_test, y_train, y_test = train_test_split(X, y, test_size=0.2, random_state=0)\n",
        "\n",
        "# Creating and training the decision tree model\n",
        "model = DecisionTreeClassifier(criterion='gini', max_depth=3, random_state=0)\n",
        "model.fit(X_train, y_train)\n",
        "\n",
        "# Making predictions\n",
        "y_pred = model.predict(X_test)\n",
        "\n",
        "# Evaluating the model accuracy\n",
        "model_accuracy = accuracy_score(y_test, y_pred)\n",
        "conf_matrix = confusion_matrix(y_test, y_pred)\n",
        "\n",
        "# Optional: Print accuracy and confusion matrix\n",
        "print(f\"Model Accuracy: {model_accuracy}\")\n",
        "print(\"Confusion Matrix:\")\n",
        "print(conf_matrix)\n",
        "\n",
        "\n",
        "\n"
      ],
      "metadata": {
        "colab": {
          "base_uri": "https://localhost:8080/"
        },
        "id": "1KyDiRc9Ti-h",
        "outputId": "2451ecb9-e554-4705-e7d3-46446d47ec76"
      },
      "execution_count": 13,
      "outputs": [
        {
          "output_type": "stream",
          "name": "stdout",
          "text": [
            "Model Accuracy: 1.0\n",
            "Confusion Matrix:\n",
            "[[1]]\n"
          ]
        },
        {
          "output_type": "stream",
          "name": "stderr",
          "text": [
            "/usr/local/lib/python3.10/dist-packages/sklearn/metrics/_classification.py:409: UserWarning: A single label was found in 'y_true' and 'y_pred'. For the confusion matrix to have the correct shape, use the 'labels' parameter to pass all known labels.\n",
            "  warnings.warn(\n"
          ]
        }
      ]
    }
  ]
}